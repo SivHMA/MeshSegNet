{
  "nbformat": 4,
  "nbformat_minor": 0,
  "metadata": {
    "colab": {
      "name": "pygco.ipynb",
      "provenance": [],
      "collapsed_sections": [],
      "machine_shape": "hm",
      "mount_file_id": "13NdNqX44p8uEcYaTdvL-9D8kdkdCH6YM",
      "authorship_tag": "ABX9TyPfrL1vAf/Ktmi3RUB2uW3T",
      "include_colab_link": true
    },
    "kernelspec": {
      "name": "python3",
      "display_name": "Python 3"
    },
    "language_info": {
      "name": "python"
    },
    "accelerator": "GPU"
  },
  "cells": [
    {
      "cell_type": "markdown",
      "metadata": {
        "id": "view-in-github",
        "colab_type": "text"
      },
      "source": [
        "<a href=\"https://colab.research.google.com/github/SivHMA/MeshSegNet/blob/master/pygco.ipynb\" target=\"_parent\"><img src=\"https://colab.research.google.com/assets/colab-badge.svg\" alt=\"Open In Colab\"/></a>"
      ]
    },
    {
      "cell_type": "code",
      "metadata": {
        "id": "30t1c4Lw1MJ8"
      },
      "source": [
        "!pip install vedo==2020.4.2"
      ],
      "execution_count": null,
      "outputs": []
    },
    {
      "cell_type": "code",
      "metadata": {
        "id": "pLwKFNkD1VT2"
      },
      "source": [
        "!vedo -h"
      ],
      "execution_count": null,
      "outputs": []
    },
    {
      "cell_type": "code",
      "metadata": {
        "id": "BJ4KseVGkRmj"
      },
      "source": [
        "!pip install pygco"
      ],
      "execution_count": null,
      "outputs": []
    },
    {
      "cell_type": "code",
      "metadata": {
        "id": "TQLYOda_kc4v"
      },
      "source": [
        "cd /content/drive/MyDrive/MeshSegNet-master/"
      ],
      "execution_count": null,
      "outputs": []
    },
    {
      "cell_type": "code",
      "metadata": {
        "id": "uDk71LRl_mxj"
      },
      "source": [
        "ls /content/drive/MyDrive/STL/Upper/"
      ],
      "execution_count": null,
      "outputs": []
    },
    {
      "cell_type": "code",
      "metadata": {
        "id": "yFEzns8gLSXT"
      },
      "source": [
        "ls /content/drive/MyDrive/STL/Lower/"
      ],
      "execution_count": null,
      "outputs": []
    },
    {
      "cell_type": "code",
      "metadata": {
        "id": "7U0M5d83__Pf"
      },
      "source": [
        "!python step6_predict_with_post_processing_pygco.py"
      ],
      "execution_count": null,
      "outputs": []
    }
  ]
}