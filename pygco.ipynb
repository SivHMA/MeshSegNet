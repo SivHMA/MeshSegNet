{
  "nbformat": 4,
  "nbformat_minor": 0,
  "metadata": {
    "colab": {
      "name": "pygco.ipynb",
      "provenance": [],
      "collapsed_sections": [],
      "machine_shape": "hm",
      "mount_file_id": "13NdNqX44p8uEcYaTdvL-9D8kdkdCH6YM",
      "authorship_tag": "ABX9TyPfrL1vAf/Ktmi3RUB2uW3T",
      "include_colab_link": true
    },
    "kernelspec": {
      "name": "python3",
      "display_name": "Python 3"
    },
    "language_info": {
      "name": "python"
    },
    "accelerator": "GPU"
  },
  "cells": [
    {
      "cell_type": "markdown",
      "metadata": {
        "id": "view-in-github",
        "colab_type": "text"
      },
      "source": [
        "<a href=\"https://colab.research.google.com/github/SivHMA/MeshSegNet/blob/master/pygco.ipynb\" target=\"_parent\"><img src=\"https://colab.research.google.com/assets/colab-badge.svg\" alt=\"Open In Colab\"/></a>"
      ]
    },
    {
      "cell_type": "code",
      "metadata": {
        "id": "30t1c4Lw1MJ8",
        "colab": {
          "base_uri": "https://localhost:8080/"
        },
        "outputId": "56d38a4f-76f8-4e48-af8e-71db4ee929e4"
      },
      "source": [
        "!pip install vedo==2020.4.2"
      ],
      "execution_count": 1,
      "outputs": [
        {
          "output_type": "stream",
          "text": [
            "Collecting vedo==2020.4.2\n",
            "\u001b[?25l  Downloading https://files.pythonhosted.org/packages/0f/6d/998749bdb8fcbc6e89aaef93c8f6248c4bda7421c4ed5caf4e797ffdd5e0/vedo-2020.4.2.tar.gz (9.5MB)\n",
            "\u001b[K     |████████████████████████████████| 9.5MB 13.2MB/s \n",
            "\u001b[?25hCollecting vtk\n",
            "\u001b[?25l  Downloading https://files.pythonhosted.org/packages/f0/2c/cd665a79bbfab09e949cca4b920421dc56a4afc604d5d6be27ecee95176e/vtk-9.0.3-cp37-cp37m-manylinux_2_17_x86_64.manylinux2014_x86_64.whl (59.5MB)\n",
            "\u001b[K     |████████████████████████████████| 59.5MB 87kB/s \n",
            "\u001b[?25hRequirement already satisfied: numpy in /usr/local/lib/python3.7/dist-packages (from vedo==2020.4.2) (1.19.5)\n",
            "Requirement already satisfied: matplotlib>=2.0.0 in /usr/local/lib/python3.7/dist-packages (from vtk->vedo==2020.4.2) (3.2.2)\n",
            "Collecting Twisted>=17.5.0\n",
            "\u001b[?25l  Downloading https://files.pythonhosted.org/packages/f2/16/3eb9c66a7bfb5220c7bcbaaac33d359fe8a157b028959cd210983749b2e0/Twisted-21.2.0-py3-none-any.whl (3.1MB)\n",
            "\u001b[K     |████████████████████████████████| 3.1MB 45.1MB/s \n",
            "\u001b[?25hCollecting wslink>=0.1.3\n",
            "  Downloading https://files.pythonhosted.org/packages/11/bf/f7214dfd45ca8051dce823243c437f3a8e3f14b863c90e2613e02b964311/wslink-0.2.0-py2.py3-none-any.whl\n",
            "Collecting autobahn>=17.7.1\n",
            "\u001b[?25l  Downloading https://files.pythonhosted.org/packages/f0/8b/816e29fdcb249c3ce8e7e4c16f0547b0255c5f4c9a6cb88c2c91b7d8b202/autobahn-21.3.1-py2.py3-none-any.whl (495kB)\n",
            "\u001b[K     |████████████████████████████████| 501kB 38.3MB/s \n",
            "\u001b[?25hRequirement already satisfied: python-dateutil>=2.1 in /usr/local/lib/python3.7/dist-packages (from matplotlib>=2.0.0->vtk->vedo==2020.4.2) (2.8.1)\n",
            "Requirement already satisfied: cycler>=0.10 in /usr/local/lib/python3.7/dist-packages (from matplotlib>=2.0.0->vtk->vedo==2020.4.2) (0.10.0)\n",
            "Requirement already satisfied: kiwisolver>=1.0.1 in /usr/local/lib/python3.7/dist-packages (from matplotlib>=2.0.0->vtk->vedo==2020.4.2) (1.3.1)\n",
            "Requirement already satisfied: pyparsing!=2.0.4,!=2.1.2,!=2.1.6,>=2.0.1 in /usr/local/lib/python3.7/dist-packages (from matplotlib>=2.0.0->vtk->vedo==2020.4.2) (2.4.7)\n",
            "Collecting constantly>=15.1\n",
            "  Downloading https://files.pythonhosted.org/packages/b9/65/48c1909d0c0aeae6c10213340ce682db01b48ea900a7d9fce7a7910ff318/constantly-15.1.0-py2.py3-none-any.whl\n",
            "Collecting Automat>=0.8.0\n",
            "  Downloading https://files.pythonhosted.org/packages/dd/83/5f6f3c1a562674d65efc320257bdc0873ec53147835aeef7762fe7585273/Automat-20.2.0-py2.py3-none-any.whl\n",
            "Collecting zope.interface>=4.4.2\n",
            "\u001b[?25l  Downloading https://files.pythonhosted.org/packages/bb/a7/94e1a92c71436f934cdd2102826fa041c83dcb7d21dd0f1fb1a57f6e0620/zope.interface-5.4.0-cp37-cp37m-manylinux2010_x86_64.whl (251kB)\n",
            "\u001b[K     |████████████████████████████████| 256kB 53.2MB/s \n",
            "\u001b[?25hCollecting hyperlink>=17.1.1\n",
            "\u001b[?25l  Downloading https://files.pythonhosted.org/packages/6e/aa/8caf6a0a3e62863cbb9dab27135660acba46903b703e224f14f447e57934/hyperlink-21.0.0-py2.py3-none-any.whl (74kB)\n",
            "\u001b[K     |████████████████████████████████| 81kB 10.9MB/s \n",
            "\u001b[?25hRequirement already satisfied: attrs>=19.2.0 in /usr/local/lib/python3.7/dist-packages (from Twisted>=17.5.0->vtk->vedo==2020.4.2) (21.2.0)\n",
            "Collecting incremental>=16.10.1\n",
            "  Downloading https://files.pythonhosted.org/packages/99/3b/4f80dd10cb716f3a9e22ae88f026d25c47cc3fdf82c2747f3d59c98e4ff1/incremental-21.3.0-py2.py3-none-any.whl\n",
            "Collecting cryptography>=3.4.6\n",
            "\u001b[?25l  Downloading https://files.pythonhosted.org/packages/b2/26/7af637e6a7e87258b963f1731c5982fb31cd507f0d90d91836e446955d02/cryptography-3.4.7-cp36-abi3-manylinux2014_x86_64.whl (3.2MB)\n",
            "\u001b[K     |████████████████████████████████| 3.2MB 39.1MB/s \n",
            "\u001b[?25hCollecting txaio>=21.2.1\n",
            "  Downloading https://files.pythonhosted.org/packages/55/53/c9b89497ba46395bbf84a8c511550626cc5c507c0b76680df54435553e53/txaio-21.2.1-py2.py3-none-any.whl\n",
            "Requirement already satisfied: six>=1.5 in /usr/local/lib/python3.7/dist-packages (from python-dateutil>=2.1->matplotlib>=2.0.0->vtk->vedo==2020.4.2) (1.15.0)\n",
            "Requirement already satisfied: setuptools in /usr/local/lib/python3.7/dist-packages (from zope.interface>=4.4.2->Twisted>=17.5.0->vtk->vedo==2020.4.2) (57.0.0)\n",
            "Requirement already satisfied: idna>=2.5 in /usr/local/lib/python3.7/dist-packages (from hyperlink>=17.1.1->Twisted>=17.5.0->vtk->vedo==2020.4.2) (2.10)\n",
            "Requirement already satisfied: cffi>=1.12 in /usr/local/lib/python3.7/dist-packages (from cryptography>=3.4.6->autobahn>=17.7.1->vtk->vedo==2020.4.2) (1.14.5)\n",
            "Requirement already satisfied: pycparser in /usr/local/lib/python3.7/dist-packages (from cffi>=1.12->cryptography>=3.4.6->autobahn>=17.7.1->vtk->vedo==2020.4.2) (2.20)\n",
            "Building wheels for collected packages: vedo\n",
            "  Building wheel for vedo (setup.py) ... \u001b[?25l\u001b[?25hdone\n",
            "  Created wheel for vedo: filename=vedo-2020.4.2-cp37-none-any.whl size=9561491 sha256=2f3b2665b0b73d39a3d6432ceb5fec517f12646ffb512fc178f892302f51ec07\n",
            "  Stored in directory: /root/.cache/pip/wheels/5a/63/f5/b4841915d47880d5c017dc43ab8caafd4cb549033984a50bea\n",
            "Successfully built vedo\n",
            "Installing collected packages: constantly, Automat, zope.interface, hyperlink, incremental, Twisted, cryptography, txaio, autobahn, wslink, vtk, vedo\n",
            "Successfully installed Automat-20.2.0 Twisted-21.2.0 autobahn-21.3.1 constantly-15.1.0 cryptography-3.4.7 hyperlink-21.0.0 incremental-21.3.0 txaio-21.2.1 vedo-2020.4.2 vtk-9.0.3 wslink-0.2.0 zope.interface-5.4.0\n"
          ],
          "name": "stdout"
        }
      ]
    },
    {
      "cell_type": "code",
      "metadata": {
        "id": "pLwKFNkD1VT2",
        "colab": {
          "base_uri": "https://localhost:8080/"
        },
        "outputId": "87cb18b4-5caa-45d1-f16b-2f35a50b3c95"
      },
      "source": [
        "!vedo -h"
      ],
      "execution_count": 2,
      "outputs": [
        {
          "output_type": "stream",
          "text": [
            "usage: vedo [-h] [-c] [-a] [-w] [-p] [-e] [-k] [-K] [-x] [-i] [-l] [-f] [-bg]\n",
            "            [-bg2] [-z] [-q] [-n] [-s] [-g] [-gx] [-gy] [-gz] [--mode]\n",
            "            [--cmap] [--slicer] [--slicer2d] [--lego] [-r] [--list] [--reload]\n",
            "            [files [files ...]]\n",
            "\n",
            "version 2020.4.2 - check out home page https://github.com/marcomusy/vedo\n",
            "\n",
            "positional arguments:\n",
            "  files                 Input filename(s)\n",
            "\n",
            "optional arguments:\n",
            "  -h, --help            show this help message and exit\n",
            "  -c , --color          mesh color [integer or color name]\n",
            "  -a , --alpha          alpha value [0-1]\n",
            "  -w, --wireframe       use wireframe representation\n",
            "  -p , --point-size     specify point size\n",
            "  -e, --showedges       show a thin line on mesh edges\n",
            "  -k , --lighting       metallic, plastic, shiny or glossy\n",
            "  -K, --flat            use flat shading\n",
            "  -x , --axes-type      specify axes type [0-5]\n",
            "  -i, --no-camera-share\n",
            "                        do not share camera in renderers\n",
            "  -l, --legend-off      do not show legends\n",
            "  -f, --full-screen     full screen mode\n",
            "  -bg , --background    background color [integer or color name]\n",
            "  -bg2 , --background-grad \n",
            "                        use background color gradient\n",
            "  -z , --zoom           zooming factor\n",
            "  -q, --quiet           quiet mode, less verbose\n",
            "  -n, --multirenderer-mode\n",
            "                        Multi renderer Mode: files go to separate renderers\n",
            "  -s, --scrolling-mode  Scrolling Mode: use slider to scroll files\n",
            "  -g, --ray-cast-mode   GPU Ray-casting Mode for 3D image files\n",
            "  -gx , --x-spacing     Volume x-spacing factor [1]\n",
            "  -gy , --y-spacing     Volume y-spacing factor [1]\n",
            "  -gz , --z-spacing     Volume z-spacing factor [1]\n",
            "  --mode                Voxel rendering composite mode\n",
            "  --cmap                Voxel rendering color map name\n",
            "  --slicer              Slicer Mode for volumetric data\n",
            "  --slicer2d            2D Slicer Mode for volumetric data\n",
            "  --lego                Voxel rendering for 3D image files\n",
            "  -r , --run            Run example from vedo/examples\n",
            "  --list                List examples in vedo/examples\n",
            "  --reload              Reload the file, ignoring any previous download\n"
          ],
          "name": "stdout"
        }
      ]
    },
    {
      "cell_type": "code",
      "metadata": {
        "id": "BJ4KseVGkRmj",
        "colab": {
          "base_uri": "https://localhost:8080/"
        },
        "outputId": "0994d702-39bd-4bcb-b91a-d9de809f7a80"
      },
      "source": [
        "!pip install pygco"
      ],
      "execution_count": 3,
      "outputs": [
        {
          "output_type": "stream",
          "text": [
            "Collecting pygco\n",
            "  Downloading https://files.pythonhosted.org/packages/df/a8/e4de23aa0e23239e376bc1842be815a91355b5a7dd8d97ce01dc2c6eb27c/pygco-0.0.16.tar.gz\n",
            "Requirement already satisfied: cython in /usr/local/lib/python3.7/dist-packages (from pygco) (0.29.23)\n",
            "Building wheels for collected packages: pygco\n",
            "  Building wheel for pygco (setup.py) ... \u001b[?25l\u001b[?25hdone\n",
            "  Created wheel for pygco: filename=pygco-0.0.16-cp37-cp37m-linux_x86_64.whl size=291467 sha256=afb1aeda981328401d44f40f8d1e6cbe54522a5ac74f1cf959e2d03a6f31b792\n",
            "  Stored in directory: /root/.cache/pip/wheels/81/af/76/e95270b6cd3aaab5e9cf40b7c177de7d79cc7bd153544d4a5c\n",
            "Successfully built pygco\n",
            "Installing collected packages: pygco\n",
            "Successfully installed pygco-0.0.16\n"
          ],
          "name": "stdout"
        }
      ]
    },
    {
      "cell_type": "code",
      "metadata": {
        "id": "TQLYOda_kc4v",
        "colab": {
          "base_uri": "https://localhost:8080/"
        },
        "outputId": "3df125c8-4872-4c24-d88e-8bd67bf32e06"
      },
      "source": [
        "cd /content/drive/MyDrive/MeshSegNet-master/"
      ],
      "execution_count": 4,
      "outputs": [
        {
          "output_type": "stream",
          "text": [
            "/content/drive/MyDrive/MeshSegNet-master\n"
          ],
          "name": "stdout"
        }
      ]
    },
    {
      "cell_type": "code",
      "metadata": {
        "id": "uDk71LRl_mxj",
        "colab": {
          "base_uri": "https://localhost:8080/"
        },
        "outputId": "dc9a6028-9c67-46c4-f8ed-a8c2375a9a30"
      },
      "source": [
        "ls /content/drive/MyDrive/STL/Upper/"
      ],
      "execution_count": 5,
      "outputs": [
        {
          "output_type": "stream",
          "text": [
            " c1403033s0.stl      'C1812047 s0.stl'   'C2104033 s0.stl'  'C2106005 s0.stl'\n",
            "'c1602061 s0.stl'    'C1812052 s0.stl'   'C2104040 S0.stl'  'C2106007 s0.stl'\n",
            "'C1605036 s0 G.stl'  'C1812062 s0.stl'   'C2104043 s0.stl'  'C2106010 s0.stl'\n",
            "'C1606023 s0-X.stl'  'C1912207 s00.stl'  'C2104062 s0.stl'  'C2106015 s0.stl'\n",
            "'C1701067 s0.stl'    'C2001002 s00.stl'  'C2105173 s0.stl'  'C2106016 s0.stl'\n",
            "'C1808089 s0.stl'    'C2001006 s00.stl'  'C2105174 s0.stl'  'f2002036 s0.stl'\n",
            "'C1809046 s0.stl'    'C2001009 s00.stl'  'C2105175 s0.stl'  'F2003004 s0.stl'\n",
            "'C1809081 s0.stl'    'C2001018 s00.stl'  'C2105196 s0.stl'  'f2003006 s0.stl'\n",
            "'C1809093 s0.stl'    'C2001019 s00.stl'  'C2105208 s0.stl'   f2003008s0.stl\n",
            "'C1809111 s0.stl'    'C2001068 s0.stl'   'C2105209 s0.stl'  'F2003013 s0.stl'\n",
            "'C1809123 s0.stl'    'C2001101 s0.stl'   'C2105211 s0.stl'  'f2003016 s0.stl'\n",
            "'C1810021 s0.stl'    'C2003015 s0.stl'   'C2105222 s0.stl'  'F2003017 s0.stl'\n",
            "'C1810028 s0.stl'     C2009002-S0.stl    'C2105223 s0.stl'  'F2003019 s0.stl'\n",
            "'C1810087 s0.stl'     C2009004-S0.stl    'C2105224 s0.stl'   F2007274-S0.stl\n",
            "'C1810093 s0.stl'    'C2103191 s0.stl'   'C2105225 s0.stl'   QC2009031-S.stl\n",
            "'C1811071 s0.stl'    'C2103203 s0.stl'   'C2105226 s0.stl'   s01.stl\n",
            "'C1811072 s0.stl'    'c2103244 s0.stl'   'C2105227 s0.stl'   s0.stl\n",
            "'C1811113 s0.stl'    'C2103281 s0.stl'   'C2106001 s0.stl'\n",
            "'C1812027 s0.stl'    'C2103304 S0.stl'   'C2106002 s0.stl'\n"
          ],
          "name": "stdout"
        }
      ]
    },
    {
      "cell_type": "code",
      "metadata": {
        "colab": {
          "base_uri": "https://localhost:8080/"
        },
        "id": "yFEzns8gLSXT",
        "outputId": "b4d49db4-6e5c-4808-8280-8a52f4975aa3"
      },
      "source": [
        "ls /content/drive/MyDrive/STL/Lower/"
      ],
      "execution_count": 6,
      "outputs": [
        {
          "output_type": "stream",
          "text": [
            " c1403033x0.stl    'C1812062 x0.stl'    'C2104033 x0.stl'  'C2106007 x0.stl'\n",
            "'c1602061 x0.stl'  'C1912207 x00.stl'   'C2104040 X0.stl'  'C2106010 x0.stl'\n",
            "'C1605036 x0.stl'  'C2001002 x00.stl'   'C2104043 x0.stl'  'C2106015 x0.stl'\n",
            "'C1701067 x0.stl'  'C2001006 x00.stl'   'C2104062 x0.stl'  'C2106016 x0.stl'\n",
            "'C1808089 x0.stl'  'C2001009 x00.stl'   'C2105173 x0.stl'  'f2002036 x0.stl'\n",
            "'C1809046 x0.stl'  'C2001018 x00.stl'   'C2105174 x0.stl'  'F2003004 x0.stl'\n",
            "'C1809081 x0.stl'  'C2001019 x00.stl'   'C2105175 x0.stl'  'f2003006 x0.stl'\n",
            "'C1809093 x0.stl'  'C2001068 x0.stl'    'C2105196 x0.stl'  'f2003008 x0.stl'\n",
            "'C1809111 x0.stl'  'C2001101 x0.stl'    'C2105208 x0.stl'  'F2003013 x0.stl'\n",
            "'C1809123 x0.stl'  'C2003014 x0.stl'    'C2105209 x0.stl'  'f2003016 x0.stl'\n",
            "'C1810021 x0.stl'  'C2003015 x0.stl'    'C2105211 x0.stl'  'F2003017 x0.stl'\n",
            "'C1810028 x0.stl'   C2009002-X0.stl     'C2105222 x0.stl'  'F2003019 x0.stl'\n",
            "'C1810087 x0.stl'  'C2009003 x0-X.stl'  'C2105223 x0.stl'   F2003019x0.stl\n",
            "'C1810093 x0.stl'   C2009004-X0.stl     'C2105224 x0.stl'   F2007274-X0.stl\n",
            "'C1811071 x0.stl'  'C2103191 x0.stl'    'C2105225 x0.stl'   QC2009031-X.stl\n",
            "'C1811072 x0.stl'  'C2103203 x0.stl'    'C2105226 x0.stl'   x01.stl\n",
            "'C1811113 x0.stl'  'c2103244 x0.stl'     C2105227X.stl      x0.stl\n",
            "'C1812027 x0.stl'  'C2103281 x0.stl'    'C2106001 x0.stl'\n",
            "'C1812047 x0.stl'  'C2103292 x0.stl'    'C2106002 x0.stl'\n",
            "'C1812052 x0.stl'  'C2103304 X0.stl'    'C2106005 x0.stl'\n"
          ],
          "name": "stdout"
        }
      ]
    },
    {
      "cell_type": "code",
      "metadata": {
        "id": "7U0M5d83__Pf",
        "colab": {
          "base_uri": "https://localhost:8080/"
        },
        "outputId": "25e462a1-ae2b-4f24-cef0-8702ae26c024"
      },
      "source": [
        "!python step6_predict_with_post_processing_pygco.py"
      ],
      "execution_count": 11,
      "outputs": [
        {
          "output_type": "stream",
          "text": [
            "Predicting Sample filename: C2105223 s0.stl\n",
            "\tDownsampling...\n",
            "\tPredicting...\n",
            "\tRefining by pygco...\n",
            "\tUpsampling...\n",
            "Sample filename: C2105223 s0.stl completed\n",
            "\tcomputing time: 17.09 sec\n"
          ],
          "name": "stdout"
        }
      ]
    }
  ]
}