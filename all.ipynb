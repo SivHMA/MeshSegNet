{
  "nbformat": 4,
  "nbformat_minor": 0,
  "metadata": {
    "accelerator": "GPU",
    "colab": {
      "name": "all.ipynb",
      "provenance": [],
      "collapsed_sections": [],
      "machine_shape": "hm",
      "mount_file_id": "172dMmBeMzseVJPF6gmM61dfP5V2HrPiS",
      "authorship_tag": "ABX9TyMFY/sJ1eHwoV4hdFiq53u2",
      "include_colab_link": true
    },
    "kernelspec": {
      "display_name": "Python 3",
      "name": "python3"
    },
    "language_info": {
      "name": "python"
    }
  },
  "cells": [
    {
      "cell_type": "markdown",
      "metadata": {
        "id": "view-in-github",
        "colab_type": "text"
      },
      "source": [
        "<a href=\"https://colab.research.google.com/github/SivHMA/MeshSegNet/blob/master/all.ipynb\" target=\"_parent\"><img src=\"https://colab.research.google.com/assets/colab-badge.svg\" alt=\"Open In Colab\"/></a>"
      ]
    },
    {
      "cell_type": "code",
      "metadata": {
        "id": "vnVxjWsnPHac"
      },
      "source": [
        "!python --version\n",
        "!echo $PYTHONPATH"
      ],
      "execution_count": null,
      "outputs": []
    },
    {
      "cell_type": "code",
      "metadata": {
        "id": "JrU51djUW63B"
      },
      "source": [
        "cd /content/drive/MyDrive/MeshSegNet-master/"
      ],
      "execution_count": null,
      "outputs": []
    },
    {
      "cell_type": "code",
      "metadata": {
        "id": "5Xonvh0TPjsL"
      },
      "source": [
        "%%bash\n",
        "MINICONDA_INSTALLER_SCRIPT=Miniconda3-4.5.4-Linux-x86_64.sh\n",
        "MINICONDA_PREFIX=/usr/local\n",
        "#wget https://repo.continuum.io/miniconda/$MINICONDA_INSTALLER_SCRIPT\n",
        "chmod +x $MINICONDA_INSTALLER_SCRIPT\n",
        "./$MINICONDA_INSTALLER_SCRIPT -b -f -p $MINICONDA_PREFIX"
      ],
      "execution_count": null,
      "outputs": []
    },
    {
      "cell_type": "code",
      "metadata": {
        "id": "7rKmnWPQPZuc"
      },
      "source": [
        "!which conda # should return /usr/local/bin/conda"
      ],
      "execution_count": null,
      "outputs": []
    },
    {
      "cell_type": "code",
      "metadata": {
        "id": "QghvnC3LP3iE"
      },
      "source": [
        "!echo y | conda --version # should return 4.5.4"
      ],
      "execution_count": null,
      "outputs": []
    },
    {
      "cell_type": "code",
      "metadata": {
        "id": "clA5ml-HP8nh"
      },
      "source": [
        "!echo y | conda install pytorch==1.6.0 torchvision cuda100 -c pytorch"
      ],
      "execution_count": null,
      "outputs": []
    },
    {
      "cell_type": "code",
      "metadata": {
        "id": "6XTAzsFRZW7Q"
      },
      "source": [
        "!echo y | conda install numpy==1.18.1 pandas==1.1.3"
      ],
      "execution_count": null,
      "outputs": []
    },
    {
      "cell_type": "code",
      "metadata": {
        "id": "30t1c4Lw1MJ8"
      },
      "source": [
        "!pip install vedo==2020.4.2"
      ],
      "execution_count": null,
      "outputs": []
    },
    {
      "cell_type": "code",
      "metadata": {
        "id": "pLwKFNkD1VT2"
      },
      "source": [
        "!vedo -h"
      ],
      "execution_count": null,
      "outputs": []
    },
    {
      "cell_type": "code",
      "metadata": {
        "id": "GRSzWJVzjlkT"
      },
      "source": [
        "!pip install scikit-learn==0.22.1"
      ],
      "execution_count": null,
      "outputs": []
    },
    {
      "cell_type": "code",
      "metadata": {
        "id": "2UwVfYSxjxFF"
      },
      "source": [
        "!pip install visdom==0.1.8.9"
      ],
      "execution_count": null,
      "outputs": []
    },
    {
      "cell_type": "code",
      "metadata": {
        "id": "ifMyYWVPkKXv"
      },
      "source": [
        "!pip install thundersvm"
      ],
      "execution_count": null,
      "outputs": []
    },
    {
      "cell_type": "code",
      "metadata": {
        "id": "x1vkrkaw_OxT"
      },
      "source": [
        "cd gco_python-0.0.21/ "
      ],
      "execution_count": null,
      "outputs": []
    },
    {
      "cell_type": "code",
      "metadata": {
        "id": "n75bN_oz_rro"
      },
      "source": [
        "!pip install cython"
      ],
      "execution_count": null,
      "outputs": []
    },
    {
      "cell_type": "code",
      "metadata": {
        "id": "XTXCvWXS_onM"
      },
      "source": [
        "!python setup.py install"
      ],
      "execution_count": null,
      "outputs": []
    },
    {
      "cell_type": "code",
      "metadata": {
        "id": "BJ4KseVGkRmj"
      },
      "source": [
        "!pip install pygco"
      ],
      "execution_count": null,
      "outputs": []
    },
    {
      "cell_type": "code",
      "metadata": {
        "id": "TQLYOda_kc4v"
      },
      "source": [
        "cd /content/drive/MyDrive/MeshSegNet-master/"
      ],
      "execution_count": null,
      "outputs": []
    },
    {
      "cell_type": "code",
      "metadata": {
        "id": "dzRAbHlaklzE"
      },
      "source": [
        "!pwd"
      ],
      "execution_count": null,
      "outputs": []
    },
    {
      "cell_type": "code",
      "metadata": {
        "id": "yTm_tSC1kow9"
      },
      "source": [
        "!ls"
      ],
      "execution_count": null,
      "outputs": []
    },
    {
      "cell_type": "code",
      "metadata": {
        "id": "2cJGeAn2mX1U"
      },
      "source": [
        "#!wget https://developer.download.nvidia.com/compute/cuda/repos/ubuntu1604/x86_64/cuda-ubuntu1604.pin\n",
        "!sudo mv cuda-ubuntu1604.pin /etc/apt/preferences.d/cuda-repository-pin-600\n",
        "#!wget http://developer.download.nvidia.com/compute/cuda/10.2/Prod/local_installers/cuda-repo-ubuntu1604-10-2-local-10.2.89-440.33.01_1.0-1_amd64.deb\n",
        "!sudo dpkg -i cuda-repo-ubuntu1604-10-2-local-10.2.89-440.33.01_1.0-1_amd64.deb\n",
        "!sudo apt-key add /var/cuda-repo-10-2-local-10.2.89-440.33.01/7fa2af80.pub\n",
        "!sudo apt-get update\n",
        "!sudo apt-get -y install cuda"
      ],
      "execution_count": null,
      "outputs": []
    },
    {
      "cell_type": "code",
      "metadata": {
        "id": "t7lGZmaPkrcn"
      },
      "source": [
        "!python step1_augmentation.py"
      ],
      "execution_count": null,
      "outputs": []
    },
    {
      "cell_type": "code",
      "metadata": {
        "id": "XaJhrYjQl3QX"
      },
      "source": [
        "!python step2_get_list.py"
      ],
      "execution_count": null,
      "outputs": []
    },
    {
      "cell_type": "code",
      "metadata": {
        "id": "DTo3XvIamBno",
        "colab": {
          "base_uri": "https://localhost:8080/"
        },
        "outputId": "7e9267c5-1b26-486f-bfff-1dbe87c8ae45"
      },
      "source": [
        "!python step3_training.py"
      ],
      "execution_count": null,
      "outputs": [
        {
          "output_type": "stream",
          "text": [
            "Training model...\n",
            "tcmalloc: large alloc 2880004096 bytes == 0x56393a1bc000 @  0x7fa7c51f6b6b 0x7fa7c5216379 0x7fa765f7b6f7 0x7fa765f7e006 0x7fa7994dd013 0x7fa798f915da 0x7fa798f926f3 0x7fa79949333f 0x7fa799020b06 0x7fa799021c10 0x7fa799278629 0x7fa798c19ae9 0x7fa799357d79 0x7fa7990234fb 0x7fa79940de68 0x7fa798c19ae9 0x7fa799357b69 0x7fa79901917d 0x7fa799418228 0x7fa798c19ae9 0x7fa799357f89 0x7fa79b0917a7 0x7fa798c19ae9 0x7fa799357f89 0x7fa79f574b06 0x563747cf64f4 0x563747d23064 0x563747d7ddac 0x563747da1428 0x563747d7757e 0x563747d780f1\n",
            "tcmalloc: large alloc 2880004096 bytes == 0x5639e5c52000 @  0x7fa7c51f6b6b 0x7fa7c5216379 0x7fa765f7b6f7 0x7fa765f7e006 0x7fa7994dd013 0x7fa798f915da 0x7fa798f926f3 0x7fa79949333f 0x7fa799020b06 0x7fa799021c10 0x7fa799278629 0x7fa798c19ae9 0x7fa799357d79 0x7fa7990234fb 0x7fa79940de68 0x7fa798c19ae9 0x7fa799357b69 0x7fa79901917d 0x7fa799418228 0x7fa798c19ae9 0x7fa799357f89 0x7fa79b0917a7 0x7fa798c19ae9 0x7fa799357f89 0x7fa79f574b06 0x563747cf64f4 0x563747d23064 0x563747d7ddac 0x563747da1428 0x563747d7757e 0x563747d780f1\n",
            "tcmalloc: large alloc 1440006144 bytes == 0x5638493a8000 @  0x7fa7c51f6b6b 0x7fa7c5216379 0x7fa765f7b6f7 0x7fa765f7e006 0x7fa7994dd013 0x7fa798ff271f 0x7fa799276ff9 0x7fa7992684f1 0x7fa799266f88 0x7fa7992684f1 0x7fa799372145 0x7fa798fe0b1f 0x7fa799406a0a 0x7fa799442951 0x7fa7994c4835 0x7fa768297b0b 0x7fa798da6719 0x7fa798da4388 0x7fa798da65a4 0x7fa7994914f5 0x7fa79b9648de 0x7fa7994914f5 0x7fa798fe1507 0x7fa7994069c3 0x7fa79aff2e93 0x7fa7994428ea 0x7fa7994c4df2 0x7fa79f52a78c 0x563747cf64f4 0x563747d23064 0x563747d7ddac\n",
            "tcmalloc: large alloc 2880004096 bytes == 0x563aa3192000 @  0x7fa7c51f6b6b 0x7fa7c5216379 0x7fa765f7b6f7 0x7fa765f7e006 0x7fa7994dd013 0x7fa798f915da 0x7fa798f926f3 0x7fa79949333f 0x7fa799020b06 0x7fa799021c10 0x7fa799278629 0x7fa798c19ae9 0x7fa799357d79 0x7fa7990234fb 0x7fa79940de68 0x7fa798c19ae9 0x7fa799357b69 0x7fa79901917d 0x7fa799418228 0x7fa798c19ae9 0x7fa799357f89 0x7fa79b0917a7 0x7fa798c19ae9 0x7fa799357f89 0x7fa79f574b06 0x563747cf64f4 0x563747d23064 0x563747d7ddac 0x563747da1428 0x563747d7757e 0x563747d780f1\n",
            "tcmalloc: large alloc 2880004096 bytes == 0x563b4ec28000 @  0x7fa7c51f6b6b 0x7fa7c5216379 0x7fa765f7b6f7 0x7fa765f7e006 0x7fa7994dd013 0x7fa798f915da 0x7fa798f926f3 0x7fa79949333f 0x7fa799020b06 0x7fa799021c10 0x7fa799278629 0x7fa798c19ae9 0x7fa799357d79 0x7fa7990234fb 0x7fa79940de68 0x7fa798c19ae9 0x7fa799357b69 0x7fa79901917d 0x7fa799418228 0x7fa798c19ae9 0x7fa799357f89 0x7fa79b0917a7 0x7fa798c19ae9 0x7fa799357f89 0x7fa79f574b06 0x563747cf64f4 0x563747d23064 0x563747d7ddac 0x563747da1428 0x563747d7757e 0x563747d780f1\n",
            "tcmalloc: large alloc 2880004096 bytes == 0x56393a1bc000 @  0x7fa7c51f6b6b 0x7fa7c5216379 0x7fa765f7b6f7 0x7fa765f7e006 0x7fa7994dd013 0x7fa798f915da 0x7fa798f926f3 0x7fa79949333f 0x7fa799020b06 0x7fa799021c10 0x7fa799278629 0x7fa798c19ae9 0x7fa799357d79 0x7fa7990234fb 0x7fa79940de68 0x7fa798c19ae9 0x7fa799357b69 0x7fa79901917d 0x7fa799418228 0x7fa798c19ae9 0x7fa799357f89 0x7fa79b0917a7 0x7fa798c19ae9 0x7fa799357f89 0x7fa79f574b06 0x563747cf64f4 0x563747d23064 0x563747d7ddac 0x563747da1428 0x563747d7757e 0x563747d780f1\n",
            "tcmalloc: large alloc 2880004096 bytes == 0x5639e5c52000 @  0x7fa7c51f6b6b 0x7fa7c5216379 0x7fa765f7b6f7 0x7fa765f7e006 0x7fa7994dd013 0x7fa798f915da 0x7fa798f926f3 0x7fa79949333f 0x7fa799020b06 0x7fa799021c10 0x7fa799278629 0x7fa798c19ae9 0x7fa799357d79 0x7fa7990234fb 0x7fa79940de68 0x7fa798c19ae9 0x7fa799357b69 0x7fa79901917d 0x7fa799418228 0x7fa798c19ae9 0x7fa799357f89 0x7fa79b0917a7 0x7fa798c19ae9 0x7fa799357f89 0x7fa79f574b06 0x563747cf64f4 0x563747d23064 0x563747d7ddac 0x563747da1428 0x563747d7757e 0x563747d780f1\n",
            "tcmalloc: large alloc 2880004096 bytes == 0x563aa3192000 @  0x7fa7c51f6b6b 0x7fa7c5216379 0x7fa765f7b6f7 0x7fa765f7e006 0x7fa7994dd013 0x7fa798f915da 0x7fa798f926f3 0x7fa79949333f 0x7fa799020b06 0x7fa799021c10 0x7fa799278629 0x7fa798c19ae9 0x7fa799357d79 0x7fa7990234fb 0x7fa79940de68 0x7fa798c19ae9 0x7fa799357b69 0x7fa79901917d 0x7fa799418228 0x7fa798c19ae9 0x7fa799357f89 0x7fa79b0917a7 0x7fa798c19ae9 0x7fa799357f89 0x7fa79f574b06 0x563747cf64f4 0x563747d23064 0x563747d7ddac 0x563747da1428 0x563747d7757e 0x563747d780f1\n",
            "tcmalloc: large alloc 2880004096 bytes == 0x563b4ec28000 @  0x7fa7c51f6b6b 0x7fa7c5216379 0x7fa765f7b6f7 0x7fa765f7e006 0x7fa7994dd013 0x7fa798f915da 0x7fa798f926f3 0x7fa79949333f 0x7fa799020b06 0x7fa799021c10 0x7fa799278629 0x7fa798c19ae9 0x7fa799357d79 0x7fa7990234fb 0x7fa79940de68 0x7fa798c19ae9 0x7fa799357b69 0x7fa79901917d 0x7fa799418228 0x7fa798c19ae9 0x7fa799357f89 0x7fa79b0917a7 0x7fa798c19ae9 0x7fa799357f89 0x7fa79f574b06 0x563747cf64f4 0x563747d23064 0x563747d7ddac 0x563747da1428 0x563747d7757e 0x563747d780f1\n",
            "[Epoch: 1/200, Batch: 20/24] loss: 0.9168901443481445, dsc: 0.16560354307293892, sen: 0.2174483835697174, ppv: 0.22571791894733906\n",
            "*****\n",
            "Epoch: 1/200, loss: 0.9122084751725197, dsc: 0.1780464711288611, sen: 0.2247590869665146, ppv: 0.24195752572268248\n",
            "         val_loss: 0.9171678324540457, val_dsc: 0.24974169582128525, val_sen: 0.2883201837539673, val_ppv: 0.5432830105225245\n",
            "*****\n",
            "[Epoch: 2/200, Batch: 20/24] loss: 0.8367434531450272, dsc: 0.29489542692899706, sen: 0.3206452906131744, ppv: 0.3856422513723373\n",
            "*****\n",
            "Epoch: 2/200, loss: 0.8338097482919693, dsc: 0.29347107497354347, sen: 0.3174053318798542, ppv: 0.3861241191625595\n",
            "         val_loss: 0.851393590370814, val_dsc: 0.3351761798063914, val_sen: 0.36163418491681415, val_ppv: 0.37151022255420685\n",
            "*****\n",
            "[Epoch: 3/200, Batch: 20/24] loss: 0.7685541570186615, dsc: 0.3513900101184845, sen: 0.36073519065976145, ppv: 0.44672670364379885\n",
            "*****\n",
            "Epoch: 3/200, loss: 0.7660709917545319, dsc: 0.3635128550231457, sen: 0.3713161516934633, ppv: 0.45040861268838245\n",
            "         val_loss: 0.7774170438448588, val_dsc: 0.42610614995161694, val_sen: 0.4384965201218923, val_ppv: 0.44531694054603577\n",
            "*****\n",
            "[Epoch: 4/200, Batch: 20/24] loss: 0.7154629856348038, dsc: 0.4189827933907509, sen: 0.4207723557949066, ppv: 0.5065381124615669\n",
            "*****\n",
            "Epoch: 4/200, loss: 0.7170108432571093, dsc: 0.4071737838288148, sen: 0.4088834909101327, ppv: 0.5011543283859888\n",
            "         val_loss: 0.6782801250616709, val_dsc: 0.5023266027371088, val_sen: 0.5088007350762686, val_ppv: 0.5112729420264562\n",
            "*****\n",
            "[Epoch: 5/200, Batch: 20/24] loss: 0.6300154566764832, dsc: 0.4774104058742523, sen: 0.4787523239850998, ppv: 0.5530638679862022\n",
            "*****\n",
            "Epoch: 5/200, loss: 0.6234032263358434, dsc: 0.4822100065648556, sen: 0.4833069456120332, ppv: 0.551029060035944\n",
            "         val_loss: 0.5777976314226786, val_dsc: 0.5558551053206126, val_sen: 0.5586274365584055, val_ppv: 0.5749878982702891\n",
            "*****\n",
            "[Epoch: 6/200, Batch: 20/24] loss: 0.5408596366643905, dsc: 0.49692514538764954, sen: 0.4971178576350212, ppv: 0.5702470451593399\n",
            "*****\n",
            "Epoch: 6/200, loss: 0.5381916786233584, dsc: 0.49625875304142636, sen: 0.4964342936873436, ppv: 0.5679486269752184\n",
            "         val_loss: 0.5078154454628626, val_dsc: 0.512709508339564, val_sen: 0.5197492887576421, val_ppv: 0.5252820501724879\n",
            "*****\n",
            "Traceback (most recent call last):\n",
            "  File \"step3_training.py\", line 89, in <module>\n",
            "  File \"/usr/local/lib/python3.6/site-packages/torch/utils/data/dataloader.py\", line 363, in __next__\n",
            "    data = self._next_data()\n",
            "  File \"/usr/local/lib/python3.6/site-packages/torch/utils/data/dataloader.py\", line 403, in _next_data\n",
            "    data = self._dataset_fetcher.fetch(index)  # may raise StopIteration\n",
            "  File \"/usr/local/lib/python3.6/site-packages/torch/utils/data/_utils/fetch.py\", line 44, in fetch\n",
            "    data = [self.dataset[idx] for idx in possibly_batched_index]\n",
            "  File \"/usr/local/lib/python3.6/site-packages/torch/utils/data/_utils/fetch.py\", line 44, in <listcomp>\n",
            "    data = [self.dataset[idx] for idx in possibly_batched_index]\n",
            "  File \"/content/drive/My Drive/MeshSegNet-master/Mesh_dataset.py\", line 125, in __getitem__\n",
            "    D = distance_matrix(X_train[:, 9:12], X_train[:, 9:12])\n",
            "  File \"/usr/local/lib/python3.6/site-packages/scipy/spatial/kdtree.py\", line 998, in distance_matrix\n",
            "    result[:,j] = minkowski_distance(x,y[j],p)\n",
            "KeyboardInterrupt\n"
          ],
          "name": "stdout"
        }
      ]
    },
    {
      "cell_type": "code",
      "metadata": {
        "id": "QWUJ-37x_sZN"
      },
      "source": [
        "!cat /proc/sys/vm/overcommit_memory"
      ],
      "execution_count": null,
      "outputs": []
    },
    {
      "cell_type": "code",
      "metadata": {
        "id": "xjlShhzg1ewj"
      },
      "source": [
        "!python step4_test.py"
      ],
      "execution_count": null,
      "outputs": []
    },
    {
      "cell_type": "code",
      "metadata": {
        "id": "WcDAZlpSBZP-"
      },
      "source": [
        "!python step5_predict.py"
      ],
      "execution_count": null,
      "outputs": []
    },
    {
      "cell_type": "code",
      "metadata": {
        "id": "7U0M5d83__Pf"
      },
      "source": [
        "!python step6_predict_with_post_processing_pygco.py"
      ],
      "execution_count": null,
      "outputs": []
    },
    {
      "cell_type": "code",
      "metadata": {
        "id": "fLts2YH09p6O"
      },
      "source": [
        "from psutil import virtual_memory\n",
        "ram_gb = virtual_memory().total / 1e9\n",
        "print('Your runtime has {:.1f} gigabytes of available RAM\\n'.format(ram_gb))\n",
        "\n",
        "if ram_gb < 20:\n",
        "  print('To enable a high-RAM runtime, select the Runtime > \"Change runtime type\"')\n",
        "  print('menu, and then select High-RAM in the Runtime shape dropdown. Then, ')\n",
        "  print('re-execute this cell.')\n",
        "else:\n",
        "  print('You are using a high-RAM runtime!')"
      ],
      "execution_count": null,
      "outputs": []
    },
    {
      "cell_type": "code",
      "metadata": {
        "id": "tXIxEY0QmD0f"
      },
      "source": [
        "gpu_info = !nvidia-smi\n",
        "gpu_info = '\\n'.join(gpu_info)\n",
        "if gpu_info.find('failed') >= 0:\n",
        "  print('Select the Runtime > \"Change runtime type\" menu to enable a GPU accelerator, ')\n",
        "  print('and then re-execute this cell.')\n",
        "else:\n",
        "  print(gpu_info)"
      ],
      "execution_count": null,
      "outputs": []
    },
    {
      "cell_type": "code",
      "metadata": {
        "id": "nmAYS19j8wBf"
      },
      "source": [
        "!nvidia-smi"
      ],
      "execution_count": null,
      "outputs": []
    }
  ]
}